{
 "cells": [
  {
   "cell_type": "markdown",
   "id": "9577a8a3",
   "metadata": {},
   "source": [
    "## Creating A Neural Network for AND, OR, XOR Gate"
   ]
  },
  {
   "cell_type": "markdown",
   "id": "be263030",
   "metadata": {},
   "source": [
    "#### AND Gate"
   ]
  },
  {
   "cell_type": "code",
   "execution_count": 1,
   "id": "2b4317fd",
   "metadata": {},
   "outputs": [
    {
     "name": "stdout",
     "output_type": "stream",
     "text": [
      "Using Step function \n",
      "X1| X2| Output \n",
      "0 | 0 | 0\n",
      "0 | 1 | 0\n",
      "1 | 0 | 0\n",
      "1 | 1 | 1\n",
      "\n",
      "\n",
      "Using sigmoid function \n",
      "X1| X2| Output \n",
      "0 | 0 | 0\n",
      "0 | 1 | 0\n",
      "1 | 0 | 0\n",
      "1 | 1 | 1\n"
     ]
    }
   ],
   "source": [
    "import numpy as np\n",
    "import math\n",
    "\n",
    "w1 = 10\n",
    "w2 = 10\n",
    "bias = -15\n",
    "\n",
    "inputs = [(0,0), (0,1), (1,0), (1,1)]\n",
    "\n",
    "### define the step activation function\n",
    "def step(z):\n",
    "        if z>0:\n",
    "                return 1\n",
    "        else:\n",
    "                return 0\n",
    "\n",
    "### define the sigmoid activation function\n",
    "def sigmoid(z):\n",
    "        if (1/(1+(math.e)**(-z)))>0.5:\n",
    "                return 1\n",
    "        else:\n",
    "                return 0\n",
    "\n",
    "print(f\"Using Step function \")\n",
    "print(f\"X1| X2| Output \")\n",
    "for x1,x2 in inputs:\n",
    "\n",
    "        ### Calculation of linear function\n",
    "        z = (x1*w1 +x2*w2) +bias\n",
    "\n",
    "        ### calling the activation function\n",
    "        output = step(z)\n",
    "\n",
    "        print(f\"{x1} | {x2} | {output}\")\n",
    "\n",
    "\n",
    "print(\"\\n\")\n",
    "print(f\"Using sigmoid function \")\n",
    "print(f\"X1| X2| Output \")\n",
    "for x1,x2 in inputs:\n",
    "\n",
    "        ### Calculation of linear function\n",
    "        z = (x1*w1 +x2*w2) +bias\n",
    "\n",
    "        ### calling the activation function\n",
    "        output = sigmoid(z)\n",
    "\n",
    "        print(f\"{x1} | {x2} | {output}\")\n",
    "\n"
   ]
  },
  {
   "cell_type": "markdown",
   "id": "fb4522da",
   "metadata": {},
   "source": [
    "### OR Gate"
   ]
  },
  {
   "cell_type": "code",
   "execution_count": 2,
   "id": "21d252b6",
   "metadata": {},
   "outputs": [
    {
     "name": "stdout",
     "output_type": "stream",
     "text": [
      "Using Step function \n",
      "X1| X2| Output \n",
      "0 | 0 | 0\n",
      "0 | 1 | 1\n",
      "1 | 0 | 1\n",
      "1 | 1 | 1\n",
      "\n",
      "\n",
      "Using sigmoid function \n",
      "X1| X2| Output \n",
      "0 | 0 | 0\n",
      "0 | 1 | 1\n",
      "1 | 0 | 1\n",
      "1 | 1 | 1\n"
     ]
    }
   ],
   "source": [
    "import numpy as np\n",
    "import math\n",
    "\n",
    "w1 = 10\n",
    "w2 = 10\n",
    "bias = 0\n",
    "\n",
    "inputs = [(0,0), (0,1), (1,0), (1,1)]\n",
    "\n",
    "### define the step activation function\n",
    "def step(z):\n",
    "        if z>0:\n",
    "                return 1\n",
    "        else:\n",
    "                return 0\n",
    "\n",
    "### define the sigmoid activation function\n",
    "def sigmoid(z):\n",
    "        if (1/(1+(math.e)**(-z)))>0.5:\n",
    "                return 1\n",
    "        else:\n",
    "                return 0\n",
    "\n",
    "print(f\"Using Step function \")\n",
    "print(f\"X1| X2| Output \")\n",
    "for x1,x2 in inputs:\n",
    "\n",
    "        ### Calculation of linear function\n",
    "        z = (x1*w1 +x2*w2) +bias\n",
    "\n",
    "        ### calling the activation function\n",
    "        output = step(z)\n",
    "\n",
    "        print(f\"{x1} | {x2} | {output}\")\n",
    "\n",
    "\n",
    "print(\"\\n\")\n",
    "print(f\"Using sigmoid function \")\n",
    "print(f\"X1| X2| Output \")\n",
    "for x1,x2 in inputs:\n",
    "\n",
    "        ### Calculation of linear function\n",
    "        z = (x1*w1 +x2*w2) +bias\n",
    "\n",
    "        ### calling the activation function\n",
    "        output = sigmoid(z)\n",
    "\n",
    "        print(f\"{x1} | {x2} | {output}\")\n"
   ]
  },
  {
   "cell_type": "markdown",
   "id": "08e8437a",
   "metadata": {},
   "source": [
    "### XOR Gate"
   ]
  },
  {
   "cell_type": "code",
   "execution_count": 3,
   "id": "3376b986",
   "metadata": {},
   "outputs": [
    {
     "name": "stdout",
     "output_type": "stream",
     "text": [
      "Using Step Function\n",
      "X1| X2| Output\n",
      "0 | 0 | 0\n",
      "0 | 1 | 1\n",
      "1 | 0 | 1\n",
      "1 | 1 | 0\n",
      "\n",
      "Using Sigmoid Function\n",
      "X1| X2| Output\n",
      "0 | 0 | 0\n",
      "0 | 1 | 1\n",
      "1 | 0 | 1\n",
      "1 | 1 | 0\n"
     ]
    }
   ],
   "source": [
    "import numpy as np\n",
    "import math\n",
    "\n",
    "# Simple XOR using two layers\n",
    "inputs = [(0,0), (0,1), (1,0), (1,1)]\n",
    "\n",
    "def step(z):\n",
    "    return 1 if z > 0 else 0\n",
    "\n",
    "def sigmoid(z):\n",
    "    return 1 if (1/(1+(math.e)**(-z))) > 0.5 else 0\n",
    "\n",
    "print(\"Using Step Function\")\n",
    "print(\"X1| X2| Output\")\n",
    "\n",
    "for x1, x2 in inputs:\n",
    "    # Layer 1: Create two helper neurons\n",
    "    # Neuron 1: OR gate (x1 OR x2)\n",
    "    or_result = step(x1*1 + x2*1 - 0.5)\n",
    "    \n",
    "    # Neuron 2: AND gate (x1 AND x2)  \n",
    "    and_result = step(x1*1 + x2*1 - 1.5)\n",
    "    \n",
    "    # Layer 2: Final XOR = OR AND (NOT AND)\n",
    "    # XOR = (x1 OR x2) AND NOT(x1 AND x2)\n",
    "    xor_result = step(or_result*1 + and_result*(-1) - 0.5)\n",
    "    \n",
    "    print(f\"{x1} | {x2} | {xor_result}\")\n",
    "\n",
    "print(\"\\nUsing Sigmoid Function\")\n",
    "print(\"X1| X2| Output\")\n",
    "\n",
    "for x1, x2 in inputs:\n",
    "    # Layer 1: Create two helper neurons\n",
    "    # Neuron 1: OR gate (x1 OR x2)\n",
    "    or_result = sigmoid(x1*1 + x2*1 - 0.5)\n",
    "    \n",
    "    # Neuron 2: AND gate (x1 AND x2)  \n",
    "    and_result = sigmoid(x1*1 + x2*1 - 1.5)\n",
    "    \n",
    "    # Layer 2: Final XOR = OR AND (NOT AND)\n",
    "    # XOR = (x1 OR x2) AND NOT(x1 AND x2)\n",
    "    xor_result = sigmoid(or_result*1 + and_result*(-1) - 0.5)\n",
    "    \n",
    "    print(f\"{x1} | {x2} | {xor_result}\")\n",
    "\n"
   ]
  }
 ],
 "metadata": {
  "kernelspec": {
   "display_name": "Python 3",
   "language": "python",
   "name": "python3"
  },
  "language_info": {
   "codemirror_mode": {
    "name": "ipython",
    "version": 3
   },
   "file_extension": ".py",
   "mimetype": "text/x-python",
   "name": "python",
   "nbconvert_exporter": "python",
   "pygments_lexer": "ipython3",
   "version": "3.10.0"
  }
 },
 "nbformat": 4,
 "nbformat_minor": 5
}
